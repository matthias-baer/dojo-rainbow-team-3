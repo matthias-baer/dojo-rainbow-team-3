{
 "cells": [
  {
   "cell_type": "code",
   "execution_count": 11,
   "metadata": {
    "pycharm": {
     "name": "#%%\n"
    }
   },
   "outputs": [],
   "source": [
    "import matplotlib.pyplot as plt\n",
    "import numpy as np\n",
    "from matplotlib.patches import Circle\n"
   ]
  },
  {
   "cell_type": "code",
   "execution_count": 2,
   "metadata": {
    "pycharm": {
     "name": "#%%\n"
    }
   },
   "outputs": [
    {
     "data": {
      "image/png": "[encoded data removed]",
      "text/plain": [
       "<Figure size 432x288 with 1 Axes>"
      ]
     },
     "metadata": {
      "needs_background": "light"
     },
     "output_type": "display_data"
    }
   ],
   "source": [
    "rain_drop = Circle((0,0), radius=1, fill=False)\n",
    "fig,ax = plt.subplots(1,1)\n",
    "\n",
    "ax.add_patch(rain_drop)\n",
    "ax.set_xlim([-2,2])\n",
    "ax.set_ylim([-2,2])\n",
    "ax.set_aspect(\"equal\")\n",
    "ax.set_axis_off()"
   ]
  },
  {
   "cell_type": "code",
   "execution_count": 27,
   "metadata": {},
   "outputs": [
    {
     "data": {
      "image/png": "[encoded data removed]",
      "text/plain": [
       "<Figure size 432x288 with 1 Axes>"
      ]
     },
     "metadata": {
      "needs_background": "light"
     },
     "output_type": "display_data"
    }
   ],
   "source": [
    "ORIGIN = np.array((0,0))\n",
    "UP = np.array((0,1))\n",
    "RIGHT = np.array((1,0))\n",
    "\n",
    "A = np.array((np.cos(np.pi/3), np.sin(np.pi/3)))\n",
    "\n",
    "def plotpoint(ax, point):\n",
    "    ax.add_patch(Circle(point, radius=.05, color=\"black\"))  \n",
    "    \n",
    "def startplot():\n",
    "    fig,ax = plt.subplots(1,1)\n",
    "    ax.set_xlim([-2,2])\n",
    "    ax.set_ylim([-2,2])\n",
    "    ax.set_aspect(\"equal\")\n",
    "    ax.set_axis_off()\n",
    "    return fig, ax\n",
    "\n",
    "fig, ax = startplot()\n",
    "ax.add_patch(Circle(ORIGIN, radius=1, fill=False))\n",
    "plotpoint(ax, A)\n",
    "plotpoint(ax, ORIGIN)\n",
    "ax.annotate(\"A\", A+0.1*(RIGHT+UP));"
   ]
  },
  {
   "cell_type": "code",
   "execution_count": null,
   "metadata": {},
   "outputs": [],
   "source": []
  }
 ],
 "metadata": {
  "kernelspec": {
   "display_name": "Python 3 (ipykernel)",
   "language": "python",
   "name": "python3"
  },
  "language_info": {
   "codemirror_mode": {
    "name": "ipython",
    "version": 3
   },
   "file_extension": ".py",
   "mimetype": "text/x-python",
   "name": "python",
   "nbconvert_exporter": "python",
   "pygments_lexer": "ipython3",
   "version": "3.9.12"
  }
 },
 "nbformat": 4,
 "nbformat_minor": 1
}
