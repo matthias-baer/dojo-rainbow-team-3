{
 "cells": [
  {
   "cell_type": "code",
   "execution_count": 1,
   "metadata": {
    "pycharm": {
     "name": "#%%\n"
    }
   },
   "outputs": [],
   "source": [
    "import matplotlib as mpl\n",
    "import matplotlib.pyplot as plt\n",
    "import numpy as np\n",
    "from matplotlib.patches import Circle, Arc\n",
    "mpl.rcParams[\"font.size\"] = 14\n"
   ]
  },
  {
   "cell_type": "code",
   "execution_count": 2,
   "metadata": {
    "pycharm": {
     "name": "#%%\n"
    }
   },
   "outputs": [
    {
     "data": {
      "image/png": "[encoded data removed]",
      "text/plain": [
       "<Figure size 576x576 with 1 Axes>"
      ]
     },
     "metadata": {
      "needs_background": "light"
     },
     "output_type": "display_data"
    }
   ],
   "source": [
    "ORIGIN = np.array((0,0))\n",
    "UP = np.array((0,1))\n",
    "RIGHT = np.array((1,0))\n",
    "LEFT = -RIGHT\n",
    "DOWN = -UP\n",
    "\n",
    "A = np.array((np.cos(np.pi/3), np.sin(np.pi/3)))\n",
    "\n",
    "def plotpoint(ax, point):\n",
    "    ax.add_patch(Circle(point, radius=.03, color=\"black\"))  \n",
    "    \n",
    "def startplot():\n",
    "    fig,ax = plt.subplots(1,1,figsize=(8,8))\n",
    "    ax.set_xlim([-2,2])\n",
    "    ax.set_ylim([-2,2])\n",
    "    ax.set_aspect(\"equal\")\n",
    "    ax.set_axis_off()\n",
    "        \n",
    "    return fig, ax\n",
    "\n",
    "def plot_coordinate_axes(ax):\n",
    "    ax.axhline(0,color=\"darkgrey\")\n",
    "    ax.axvline(0,color=\"darkgrey\")\n",
    "    ax.annotate(\"x\",1.8*RIGHT+0.1*UP)\n",
    "    ax.annotate(\"y\",1.8*UP+0.1*RIGHT)\n",
    "    \n",
    "def annotate(ax, string, position, x_offset, y_offset):\n",
    "    ax.annotate(string, position+np.array([x_offset,y_offset]))\n",
    "\n",
    "def plot_line(ax, start_point, end_point, **kwargs):\n",
    "    ax.plot((start_point[0],end_point[0]),(start_point[1],end_point[1]), **kwargs)\n",
    "    \n",
    "fig, ax = startplot()\n",
    "plot_coordinate_axes(ax)\n",
    "ax.add_patch(Circle(ORIGIN, radius=1, fill=False))\n",
    "plotpoint(ax, A)\n",
    "plotpoint(ax, ORIGIN)\n",
    "plot_line(ax, ORIGIN, A, ls=\"--\", color=\"grey\")\n",
    "\n",
    "ax.add_patch(Arc(ORIGIN,width=.8,height=.8,theta1=0,theta2=60))\n",
    "annotate(ax, \"A\", A, x_offset=0.1, y_offset=0.1);\n",
    "annotate(ax, \"O\", ORIGIN, x_offset=-0.2, y_offset=-0.2);\n",
    "annotate(ax, r\"$\\varphi_A$\",ORIGIN, x_offset=0.1, y_offset=0.1);\n"
   ]
  },
  {
   "cell_type": "code",
   "execution_count": 4,
   "metadata": {
    "pycharm": {
     "name": "#%%\n"
    }
   },
   "outputs": [
    {
     "data": {
      "text/plain": [
       "<matplotlib.patches.Circle at 0x7fdbca22a3d0>"
      ]
     },
     "execution_count": 4,
     "metadata": {},
     "output_type": "execute_result"
    },
    {
     "data": {
      "image/png": "[encoded data removed]",
      "text/plain": [
       "<Figure size 576x576 with 1 Axes>"
      ]
     },
     "metadata": {
      "needs_background": "light"
     },
     "output_type": "display_data"
    }
   ],
   "source": [
    "fig2, ax2 = startplot()\n",
    "ax.add_patch(Circle(ORIGIN, radius=1, fill=False))\n"
   ]
  },
  {
   "cell_type": "code",
   "execution_count": null,
   "outputs": [],
   "source": [],
   "metadata": {
    "collapsed": false,
    "pycharm": {
     "name": "#%%\n"
    }
   }
  },
  {
   "cell_type": "code",
   "execution_count": null,
   "outputs": [],
   "source": [
    "d = Drawing()\n",
    "circle = Circle(ORIGIN,1)\n",
    "pt_O = Point(ORIGIN)\n",
    "pt_A = Point(A)\n",
    "line = Line(ORIGIN,A, linestyle = '--')\n",
    "d.add(circle, pt_O, pt_A, line)"
   ],
   "metadata": {
    "collapsed": false,
    "pycharm": {
     "name": "#%%\n"
    }
   }
  },
  {
   "cell_type": "code",
   "execution_count": null,
   "metadata": {
    "pycharm": {
     "name": "#%%\n"
    }
   },
   "outputs": [],
   "source": [
    "d = Drawing()\n",
    "circle = Circle(ORIGIN,1)\n",
    "pt_O = Point(ORIGIN)\n",
    "pt_A = Point(A)\n",
    "line = Line(ORIGIN,A, linestyle = '--')\n",
    "d.add(circle, pt_O, pt_A, line)"
   ]
  }
 ],
 "metadata": {
  "kernelspec": {
   "display_name": "Python 3 (ipykernel)",
   "language": "python",
   "name": "python3"
  },
  "language_info": {
   "codemirror_mode": {
    "name": "ipython",
    "version": 3
   },
   "file_extension": ".py",
   "mimetype": "text/x-python",
   "name": "python",
   "nbconvert_exporter": "python",
   "pygments_lexer": "ipython3",
   "version": "3.8.5"
  }
 },
 "nbformat": 4,
 "nbformat_minor": 1
}